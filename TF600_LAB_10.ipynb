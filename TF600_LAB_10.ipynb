{
  "nbformat": 4,
  "nbformat_minor": 0,
  "metadata": {
    "colab": {
      "provenance": []
    },
    "kernelspec": {
      "name": "python3",
      "display_name": "Python 3"
    },
    "language_info": {
      "name": "python"
    }
  },
  "cells": [
    {
      "cell_type": "code",
      "source": [
        "import polars as pl\n",
        "strikes = pl.read_csv(\"https://raw.githubusercontent.com/philhetzel/opan5510-class10/refs/heads/main/data/faa_strikes.txt\", separator=\"\\t\")\n",
        "strikes = strikes.with_columns(pl.col(\"Collision Date and Time\").str.strptime (pl.Datetime) )\n",
        "strikes"
      ],
      "metadata": {
        "colab": {
          "base_uri": "https://localhost:8080/",
          "height": 966
        },
        "id": "XLGqLs4XqbIc",
        "outputId": "23f3b09d-def8-4cfe-a687-e75378a75bc4"
      },
      "execution_count": 2,
      "outputs": [
        {
          "output_type": "execute_result",
          "data": {
            "text/plain": [
              "shape: (28_298, 25)\n",
              "┌───────────┬───────────┬───────────┬───────────┬───┬───────────┬───────────┬───────────┬──────────┐\n",
              "│ Airport:  ┆ Airport:  ┆ Origin    ┆ Origin    ┆ … ┆ Wildlife: ┆ Wildlife: ┆ Number of ┆ Record   │\n",
              "│ Code      ┆ Name      ┆ State     ┆ State     ┆   ┆ Species   ┆ Species   ┆ Strikes   ┆ ID       │\n",
              "│ ---       ┆ ---       ┆ ---       ┆ Code      ┆   ┆ ---       ┆ ID        ┆ ---       ┆ ---      │\n",
              "│ str       ┆ str       ┆ str       ┆ ---       ┆   ┆ str       ┆ ---       ┆ i64       ┆ i64      │\n",
              "│           ┆           ┆           ┆ str       ┆   ┆           ┆ str       ┆           ┆          │\n",
              "╞═══════════╪═══════════╪═══════════╪═══════════╪═══╪═══════════╪═══════════╪═══════════╪══════════╡\n",
              "│ KAAF      ┆ APALACHIC ┆ Florida   ┆ FL        ┆ … ┆ Domestic  ┆ 1F12      ┆ 1         ┆ 17459    │\n",
              "│           ┆ OLA       ┆           ┆           ┆   ┆ dog       ┆           ┆           ┆          │\n",
              "│           ┆ REGIONAL  ┆           ┆           ┆   ┆           ┆           ┆           ┆          │\n",
              "│           ┆ ARPT      ┆           ┆           ┆   ┆           ┆           ┆           ┆          │\n",
              "│ KAAF      ┆ APALACHIC ┆ Florida   ┆ FL        ┆ … ┆ Herons,   ┆ I1        ┆ 1         ┆ 17114    │\n",
              "│           ┆ OLA       ┆           ┆           ┆   ┆ egrets,   ┆           ┆           ┆          │\n",
              "│           ┆ REGIONAL  ┆           ┆           ┆   ┆ bitterns  ┆           ┆           ┆          │\n",
              "│           ┆ ARPT      ┆           ┆           ┆   ┆           ┆           ┆           ┆          │\n",
              "│ KABE      ┆ LEHIGH    ┆ Pennsylva ┆ PA        ┆ … ┆ American  ┆ K5114     ┆ 1         ┆ 259361   │\n",
              "│           ┆ VALLEY    ┆ nia       ┆           ┆   ┆ kestrel   ┆           ┆           ┆          │\n",
              "│           ┆ INTL      ┆           ┆           ┆   ┆           ┆           ┆           ┆          │\n",
              "│ KABE      ┆ LEHIGH    ┆ Pennsylva ┆ PA        ┆ … ┆ Mourning  ┆ O2205     ┆ 1         ┆ 345167   │\n",
              "│           ┆ VALLEY    ┆ nia       ┆           ┆   ┆ dove      ┆           ┆           ┆          │\n",
              "│           ┆ INTL      ┆           ┆           ┆   ┆           ┆           ┆           ┆          │\n",
              "│ KABE      ┆ LEHIGH    ┆ Pennsylva ┆ PA        ┆ … ┆ Red-taile ┆ K3302     ┆ 1         ┆ 262782   │\n",
              "│           ┆ VALLEY    ┆ nia       ┆           ┆   ┆ d hawk    ┆           ┆           ┆          │\n",
              "│           ┆ INTL      ┆           ┆           ┆   ┆           ┆           ┆           ┆          │\n",
              "│ …         ┆ …         ┆ …         ┆ …         ┆ … ┆ …         ┆ …         ┆ …         ┆ …        │\n",
              "│ KYNG      ┆ YOUNGSTOW ┆ Ohio      ┆ OH        ┆ … ┆ Rusty     ┆ ZT106     ┆ 1         ┆ 15818    │\n",
              "│           ┆ N-WARREN  ┆           ┆           ┆   ┆ blackbird ┆           ┆           ┆          │\n",
              "│           ┆ RGNL ARPT ┆           ┆           ┆   ┆           ┆           ┆           ┆          │\n",
              "│ KYNG      ┆ YOUNGSTOW ┆ Ohio      ┆ OH        ┆ … ┆ Ruddy     ┆ J2140     ┆ 1         ┆ 16759    │\n",
              "│           ┆ N-WARREN  ┆           ┆           ┆   ┆ duck      ┆           ┆           ┆          │\n",
              "│           ┆ RGNL ARPT ┆           ┆           ┆   ┆           ┆           ┆           ┆          │\n",
              "│ KYNG      ┆ YOUNGSTOW ┆ Ohio      ┆ OH        ┆ … ┆ White-cro ┆ ZX309     ┆ 1         ┆ 17575    │\n",
              "│           ┆ N-WARREN  ┆           ┆           ┆   ┆ wned      ┆           ┆           ┆          │\n",
              "│           ┆ RGNL ARPT ┆           ┆           ┆   ┆ sparrow   ┆           ┆           ┆          │\n",
              "│ KYNG      ┆ YOUNGSTOW ┆ Ohio      ┆ OH        ┆ … ┆ Cedar     ┆ ZD102     ┆ 1         ┆ 17262    │\n",
              "│           ┆ N-WARREN  ┆           ┆           ┆   ┆ waxwing   ┆           ┆           ┆          │\n",
              "│           ┆ RGNL ARPT ┆           ┆           ┆   ┆           ┆           ┆           ┆          │\n",
              "│ KZPH      ┆ ZEPHYRHIL ┆ Florida   ┆ FL        ┆ … ┆ New World ┆ K1        ┆ 1         ┆ 203484   │\n",
              "│           ┆ LS        ┆           ┆           ┆   ┆ Vultures  ┆           ┆           ┆          │\n",
              "│           ┆ MUNICIPAL ┆           ┆           ┆   ┆           ┆           ┆           ┆          │\n",
              "│           ┆ ARPT      ┆           ┆           ┆   ┆           ┆           ┆           ┆          │\n",
              "└───────────┴───────────┴───────────┴───────────┴───┴───────────┴───────────┴───────────┴──────────┘"
            ],
            "text/html": [
              "<div><style>\n",
              ".dataframe > thead > tr,\n",
              ".dataframe > tbody > tr {\n",
              "  text-align: right;\n",
              "  white-space: pre-wrap;\n",
              "}\n",
              "</style>\n",
              "<small>shape: (28_298, 25)</small><table border=\"1\" class=\"dataframe\"><thead><tr><th>Airport: Code</th><th>Airport: Name</th><th>Origin State</th><th>Origin State Code</th><th>Country</th><th>Aircraft: Type</th><th>Aircraft: Number of engines</th><th>Collision Date and Time</th><th>When: Time of day</th><th>When: Phase of flight</th><th>Effect: Amount of damage (detailed)</th><th>Effect: Impact to flight</th><th>Effect: Indicated Damage</th><th>Cost: Aircraft time out of service (hours)</th><th>Cost: Total $</th><th>Days</th><th>Feet above ground</th><th>Miles from airport</th><th>Wildlife: Animal Category</th><th>Wildlife: Species Order</th><th>Wildlife: Species Group</th><th>Wildlife: Species</th><th>Wildlife: Species ID</th><th>Number of Strikes</th><th>Record ID</th></tr><tr><td>str</td><td>str</td><td>str</td><td>str</td><td>str</td><td>str</td><td>str</td><td>datetime[μs, UTC]</td><td>str</td><td>str</td><td>str</td><td>str</td><td>str</td><td>str</td><td>i64</td><td>str</td><td>str</td><td>str</td><td>str</td><td>str</td><td>str</td><td>str</td><td>str</td><td>i64</td><td>i64</td></tr></thead><tbody><tr><td>&quot;KAAF&quot;</td><td>&quot;APALACHICOLA REGIONAL ARPT&quot;</td><td>&quot;Florida&quot;</td><td>&quot;FL&quot;</td><td>&quot;United States&quot;</td><td>&quot;NA&quot;</td><td>&quot;NA&quot;</td><td>2012-09-20 23:30:00 UTC</td><td>&quot;NA&quot;</td><td>&quot;Take-off run&quot;</td><td>&quot;None&quot;</td><td>&quot;None&quot;</td><td>&quot;No damage&quot;</td><td>&quot;NA&quot;</td><td>0</td><td>&quot;NA&quot;</td><td>&quot;0&quot;</td><td>&quot;NA&quot;</td><td>&quot;Terrestrial Mammals&quot;</td><td>&quot;Canids&quot;</td><td>&quot;Wolves, Dogs, Foxes, Coyote&quot;</td><td>&quot;Domestic dog&quot;</td><td>&quot;1F12&quot;</td><td>1</td><td>17459</td></tr><tr><td>&quot;KAAF&quot;</td><td>&quot;APALACHICOLA REGIONAL ARPT&quot;</td><td>&quot;Florida&quot;</td><td>&quot;FL&quot;</td><td>&quot;United States&quot;</td><td>&quot;Airplane&quot;</td><td>&quot;1&quot;</td><td>2013-04-23 21:09:00 UTC</td><td>&quot;NA&quot;</td><td>&quot;Take-off run&quot;</td><td>&quot;None&quot;</td><td>&quot;None&quot;</td><td>&quot;No damage&quot;</td><td>&quot;NA&quot;</td><td>0</td><td>&quot;NA&quot;</td><td>&quot;NA&quot;</td><td>&quot;NA&quot;</td><td>&quot;Birds&quot;</td><td>&quot;Pelicans, Herons, Egrets, Bitt…</td><td>&quot;Herons, Egrets, Bitterns&quot;</td><td>&quot;Herons, egrets, bitterns&quot;</td><td>&quot;I1&quot;</td><td>1</td><td>17114</td></tr><tr><td>&quot;KABE&quot;</td><td>&quot;LEHIGH VALLEY INTL&quot;</td><td>&quot;Pennsylvania&quot;</td><td>&quot;PA&quot;</td><td>&quot;United States&quot;</td><td>&quot;Airplane&quot;</td><td>&quot;2&quot;</td><td>2009-04-23 13:22:00 UTC</td><td>&quot;Day&quot;</td><td>&quot;Take-off run&quot;</td><td>&quot;Medium&quot;</td><td>&quot;Aborted Take-off&quot;</td><td>&quot;Caused damage&quot;</td><td>&quot;720&quot;</td><td>171132</td><td>&quot;30&quot;</td><td>&quot;0&quot;</td><td>&quot;0&quot;</td><td>&quot;Birds&quot;</td><td>&quot;Caracaras, Falcons&quot;</td><td>&quot;Caracaras, Falcons&quot;</td><td>&quot;American kestrel&quot;</td><td>&quot;K5114&quot;</td><td>1</td><td>259361</td></tr><tr><td>&quot;KABE&quot;</td><td>&quot;LEHIGH VALLEY INTL&quot;</td><td>&quot;Pennsylvania&quot;</td><td>&quot;PA&quot;</td><td>&quot;United States&quot;</td><td>&quot;Airplane&quot;</td><td>&quot;2&quot;</td><td>2014-04-14 02:00:00 UTC</td><td>&quot;Night&quot;</td><td>&quot;Approach&quot;</td><td>&quot;None&quot;</td><td>&quot;None&quot;</td><td>&quot;No damage&quot;</td><td>&quot;15&quot;</td><td>600</td><td>&quot;1&quot;</td><td>&quot;NA&quot;</td><td>&quot;NA&quot;</td><td>&quot;Birds&quot;</td><td>&quot;Pigeons and Doves&quot;</td><td>&quot;Doves&quot;</td><td>&quot;Mourning dove&quot;</td><td>&quot;O2205&quot;</td><td>1</td><td>345167</td></tr><tr><td>&quot;KABE&quot;</td><td>&quot;LEHIGH VALLEY INTL&quot;</td><td>&quot;Pennsylvania&quot;</td><td>&quot;PA&quot;</td><td>&quot;United States&quot;</td><td>&quot;Airplane&quot;</td><td>&quot;2&quot;</td><td>2009-03-31 22:15:00 UTC</td><td>&quot;Day&quot;</td><td>&quot;Approach&quot;</td><td>&quot;Medium&quot;</td><td>&quot;None&quot;</td><td>&quot;Caused damage&quot;</td><td>&quot;12&quot;</td><td>188245</td><td>&quot;1&quot;</td><td>&quot;NA&quot;</td><td>&quot;0&quot;</td><td>&quot;Birds&quot;</td><td>&quot;Hawks, Kites, Eagles, Ospreys,…</td><td>&quot;Kites, Hawks, Eagles&quot;</td><td>&quot;Red-tailed hawk&quot;</td><td>&quot;K3302&quot;</td><td>1</td><td>262782</td></tr><tr><td>&hellip;</td><td>&hellip;</td><td>&hellip;</td><td>&hellip;</td><td>&hellip;</td><td>&hellip;</td><td>&hellip;</td><td>&hellip;</td><td>&hellip;</td><td>&hellip;</td><td>&hellip;</td><td>&hellip;</td><td>&hellip;</td><td>&hellip;</td><td>&hellip;</td><td>&hellip;</td><td>&hellip;</td><td>&hellip;</td><td>&hellip;</td><td>&hellip;</td><td>&hellip;</td><td>&hellip;</td><td>&hellip;</td><td>&hellip;</td><td>&hellip;</td></tr><tr><td>&quot;KYNG&quot;</td><td>&quot;YOUNGSTOWN-WARREN RGNL ARPT&quot;</td><td>&quot;Ohio&quot;</td><td>&quot;OH&quot;</td><td>&quot;United States&quot;</td><td>&quot;Airplane&quot;</td><td>&quot;4&quot;</td><td>2011-11-16 23:20:00 UTC</td><td>&quot;NA&quot;</td><td>&quot;Approach&quot;</td><td>&quot;None&quot;</td><td>&quot;None&quot;</td><td>&quot;No damage&quot;</td><td>&quot;NA&quot;</td><td>0</td><td>&quot;NA&quot;</td><td>&quot;100&quot;</td><td>&quot;NA&quot;</td><td>&quot;Birds&quot;</td><td>&quot;Perching Birds&quot;</td><td>&quot;Blackbirds&quot;</td><td>&quot;Rusty blackbird&quot;</td><td>&quot;ZT106&quot;</td><td>1</td><td>15818</td></tr><tr><td>&quot;KYNG&quot;</td><td>&quot;YOUNGSTOWN-WARREN RGNL ARPT&quot;</td><td>&quot;Ohio&quot;</td><td>&quot;OH&quot;</td><td>&quot;United States&quot;</td><td>&quot;Airplane&quot;</td><td>&quot;4&quot;</td><td>2012-11-02 01:20:00 UTC</td><td>&quot;NA&quot;</td><td>&quot;Approach&quot;</td><td>&quot;None&quot;</td><td>&quot;None&quot;</td><td>&quot;No damage&quot;</td><td>&quot;NA&quot;</td><td>0</td><td>&quot;NA&quot;</td><td>&quot;1900&quot;</td><td>&quot;NA&quot;</td><td>&quot;Birds&quot;</td><td>&quot;Ducks, Geese, Swans, Waterfowl&quot;</td><td>&quot;Ducks&quot;</td><td>&quot;Ruddy duck&quot;</td><td>&quot;J2140&quot;</td><td>1</td><td>16759</td></tr><tr><td>&quot;KYNG&quot;</td><td>&quot;YOUNGSTOWN-WARREN RGNL ARPT&quot;</td><td>&quot;Ohio&quot;</td><td>&quot;OH&quot;</td><td>&quot;United States&quot;</td><td>&quot;Airplane&quot;</td><td>&quot;4&quot;</td><td>2014-05-08 02:00:00 UTC</td><td>&quot;NA&quot;</td><td>&quot;Take-off run&quot;</td><td>&quot;None&quot;</td><td>&quot;None&quot;</td><td>&quot;No damage&quot;</td><td>&quot;NA&quot;</td><td>0</td><td>&quot;NA&quot;</td><td>&quot;NA&quot;</td><td>&quot;NA&quot;</td><td>&quot;Birds&quot;</td><td>&quot;Perching Birds&quot;</td><td>&quot;Sparrows&quot;</td><td>&quot;White-crowned sparrow&quot;</td><td>&quot;ZX309&quot;</td><td>1</td><td>17575</td></tr><tr><td>&quot;KYNG&quot;</td><td>&quot;YOUNGSTOWN-WARREN RGNL ARPT&quot;</td><td>&quot;Ohio&quot;</td><td>&quot;OH&quot;</td><td>&quot;United States&quot;</td><td>&quot;Airplane&quot;</td><td>&quot;4&quot;</td><td>2013-10-28 22:30:00 UTC</td><td>&quot;NA&quot;</td><td>&quot;Approach&quot;</td><td>&quot;None&quot;</td><td>&quot;None&quot;</td><td>&quot;No damage&quot;</td><td>&quot;NA&quot;</td><td>0</td><td>&quot;NA&quot;</td><td>&quot;NA&quot;</td><td>&quot;NA&quot;</td><td>&quot;Birds&quot;</td><td>&quot;Perching Birds&quot;</td><td>&quot;Waxwings&quot;</td><td>&quot;Cedar waxwing&quot;</td><td>&quot;ZD102&quot;</td><td>1</td><td>17262</td></tr><tr><td>&quot;KZPH&quot;</td><td>&quot;ZEPHYRHILLS MUNICIPAL ARPT&quot;</td><td>&quot;Florida&quot;</td><td>&quot;FL&quot;</td><td>&quot;United States&quot;</td><td>&quot;Airplane&quot;</td><td>&quot;3&quot;</td><td>2000-11-05 19:00:00 UTC</td><td>&quot;Day&quot;</td><td>&quot;Descent&quot;</td><td>&quot;Minor&quot;</td><td>&quot;None&quot;</td><td>&quot;Caused damage&quot;</td><td>&quot;NA&quot;</td><td>0</td><td>&quot;NA&quot;</td><td>&quot;4000&quot;</td><td>&quot;NA&quot;</td><td>&quot;Birds&quot;</td><td>&quot;Hawks, Kites, Eagles, Ospreys,…</td><td>&quot;Vultures&quot;</td><td>&quot;New World Vultures&quot;</td><td>&quot;K1&quot;</td><td>1</td><td>203484</td></tr></tbody></table></div>"
            ]
          },
          "metadata": {},
          "execution_count": 2
        }
      ]
    },
    {
      "cell_type": "code",
      "source": [
        "#Q1\n",
        "from datetime import date\n",
        "\n",
        "running_total_strikes = (\n",
        "    strikes\n",
        "    # date w/o time\n",
        "    .with_columns(pl.col(\"Collision Date and Time\").dt.date().alias(\"date\"))\n",
        "    # daily aggregate\n",
        "    .group_by(\"date\")\n",
        "    .agg(pl.col(\"Number of Strikes\").sum().alias(\"daily_strikes\"))\n",
        "    # sort chronologically\n",
        "    .sort(\"date\")\n",
        "    # running total (window-like cumulative op)\n",
        "    .with_columns(\n",
        "        pl.col(\"daily_strikes\").cum_sum().alias(\"strikes_cumulative\")\n",
        "    )\n",
        "    # filter through 2013-12-31 inclusive\n",
        "    .filter(pl.col(\"date\") <= date(2013, 12, 31))\n",
        ")\n",
        "\n",
        "running_total_strikes"
      ],
      "metadata": {
        "colab": {
          "base_uri": "https://localhost:8080/",
          "height": 443
        },
        "id": "2mvi74extm2O",
        "outputId": "a72aa273-7f62-49fd-a6ab-13065c401dfa"
      },
      "execution_count": 4,
      "outputs": [
        {
          "output_type": "execute_result",
          "data": {
            "text/plain": [
              "shape: (4_776, 3)\n",
              "┌────────────┬───────────────┬────────────────────┐\n",
              "│ date       ┆ daily_strikes ┆ strikes_cumulative │\n",
              "│ ---        ┆ ---           ┆ ---                │\n",
              "│ date       ┆ i64           ┆ i64                │\n",
              "╞════════════╪═══════════════╪════════════════════╡\n",
              "│ 2000-01-02 ┆ 1             ┆ 1                  │\n",
              "│ 2000-01-03 ┆ 2             ┆ 3                  │\n",
              "│ 2000-01-05 ┆ 3             ┆ 6                  │\n",
              "│ 2000-01-06 ┆ 1             ┆ 7                  │\n",
              "│ 2000-01-08 ┆ 4             ┆ 11                 │\n",
              "│ …          ┆ …             ┆ …                  │\n",
              "│ 2013-12-27 ┆ 6             ┆ 24096              │\n",
              "│ 2013-12-28 ┆ 1             ┆ 24097              │\n",
              "│ 2013-12-29 ┆ 2             ┆ 24099              │\n",
              "│ 2013-12-30 ┆ 4             ┆ 24103              │\n",
              "│ 2013-12-31 ┆ 6             ┆ 24109              │\n",
              "└────────────┴───────────────┴────────────────────┘"
            ],
            "text/html": [
              "<div><style>\n",
              ".dataframe > thead > tr,\n",
              ".dataframe > tbody > tr {\n",
              "  text-align: right;\n",
              "  white-space: pre-wrap;\n",
              "}\n",
              "</style>\n",
              "<small>shape: (4_776, 3)</small><table border=\"1\" class=\"dataframe\"><thead><tr><th>date</th><th>daily_strikes</th><th>strikes_cumulative</th></tr><tr><td>date</td><td>i64</td><td>i64</td></tr></thead><tbody><tr><td>2000-01-02</td><td>1</td><td>1</td></tr><tr><td>2000-01-03</td><td>2</td><td>3</td></tr><tr><td>2000-01-05</td><td>3</td><td>6</td></tr><tr><td>2000-01-06</td><td>1</td><td>7</td></tr><tr><td>2000-01-08</td><td>4</td><td>11</td></tr><tr><td>&hellip;</td><td>&hellip;</td><td>&hellip;</td></tr><tr><td>2013-12-27</td><td>6</td><td>24096</td></tr><tr><td>2013-12-28</td><td>1</td><td>24097</td></tr><tr><td>2013-12-29</td><td>2</td><td>24099</td></tr><tr><td>2013-12-30</td><td>4</td><td>24103</td></tr><tr><td>2013-12-31</td><td>6</td><td>24109</td></tr></tbody></table></div>"
            ]
          },
          "metadata": {},
          "execution_count": 4
        }
      ]
    },
    {
      "cell_type": "code",
      "source": [
        "\n",
        "#Q2\n",
        "damage_state = (\n",
        "    strikes\n",
        "    # Clean currency -> float on the fly\n",
        "    .with_columns(\n",
        "        pl.col(\"Cost: Total $\")\n",
        "          .cast(pl.Utf8)\n",
        "          .str.replace_all(r\"[^0-9.\\-]\", \"\")\n",
        "          .cast(pl.Float64)\n",
        "          .alias(\"cost_clean\")\n",
        "    )\n",
        "    # Window sum by Origin State\n",
        "    .with_columns(\n",
        "        pl.col(\"cost_clean\").sum().over(\"Origin State\").alias(\"damage\")\n",
        "    )\n",
        "    .select(\"Origin State\", \"damage\")\n",
        "    .unique()\n",
        "    # Global rank by total damage (1 = highest)\n",
        "    .with_columns(\n",
        "        pl.col(\"damage\").rank(method=\"dense\", descending=True).alias(\"ranking\")\n",
        "    )\n",
        "    .filter(pl.col(\"ranking\") == 3)\n",
        "    .sort(\"Origin State\")\n",
        ")\n",
        "\n",
        "damage_state\n"
      ],
      "metadata": {
        "colab": {
          "base_uri": "https://localhost:8080/",
          "height": 129
        },
        "id": "0xX3ZxQFvhm4",
        "outputId": "6d16737a-0624-4e9a-9251-ea1eb9f043f3"
      },
      "execution_count": 6,
      "outputs": [
        {
          "output_type": "execute_result",
          "data": {
            "text/plain": [
              "shape: (1, 3)\n",
              "┌──────────────┬─────────────┬─────────┐\n",
              "│ Origin State ┆ damage      ┆ ranking │\n",
              "│ ---          ┆ ---         ┆ ---     │\n",
              "│ str          ┆ f64         ┆ u32     │\n",
              "╞══════════════╪═════════════╪═════════╡\n",
              "│ California   ┆ 2.9671432e7 ┆ 3       │\n",
              "└──────────────┴─────────────┴─────────┘"
            ],
            "text/html": [
              "<div><style>\n",
              ".dataframe > thead > tr,\n",
              ".dataframe > tbody > tr {\n",
              "  text-align: right;\n",
              "  white-space: pre-wrap;\n",
              "}\n",
              "</style>\n",
              "<small>shape: (1, 3)</small><table border=\"1\" class=\"dataframe\"><thead><tr><th>Origin State</th><th>damage</th><th>ranking</th></tr><tr><td>str</td><td>f64</td><td>u32</td></tr></thead><tbody><tr><td>&quot;California&quot;</td><td>2.9671432e7</td><td>3</td></tr></tbody></table></div>"
            ]
          },
          "metadata": {},
          "execution_count": 6
        }
      ]
    },
    {
      "cell_type": "code",
      "source": [
        "#Q3\n",
        "\n",
        "import polars as pl\n",
        "\n",
        "type_species = (\n",
        "    strikes\n",
        "    .with_columns(\n",
        "        pl.col(\"Cost: Total $\").cast(pl.Utf8)\n",
        "        .str.replace_all(r\"[^0-9.\\-]\", \"\")\n",
        "        .cast(pl.Float64)\n",
        "        .alias(\"cost_clean\")\n",
        "    )\n",
        "    .group_by([\"Aircraft: Type\", \"Wildlife: Species Group\"])\n",
        "    .agg(pl.col(\"cost_clean\").sum().alias(\"damage\"))\n",
        "    .with_columns(\n",
        "        # rank within each aircraft type (window fn)\n",
        "        pl.col(\"damage\")\n",
        "          .rank(method=\"dense\", descending=True)\n",
        "          .over(\"Aircraft: Type\")\n",
        "          .alias(\"ranking\")\n",
        "    )\n",
        "    .filter(pl.col(\"ranking\") == 2)\n",
        "    .sort([\"Aircraft: Type\", \"damage\"], descending=[False, True])\n",
        ")\n",
        "\n",
        "type_species\n"
      ],
      "metadata": {
        "colab": {
          "base_uri": "https://localhost:8080/",
          "height": 192
        },
        "id": "d_7ufxaRwCs0",
        "outputId": "4d5831c5-d4a8-4282-dc8e-4cae7237b9a4"
      },
      "execution_count": 8,
      "outputs": [
        {
          "output_type": "execute_result",
          "data": {
            "text/plain": [
              "shape: (3, 4)\n",
              "┌────────────────┬─────────────────────────┬─────────────┬─────────┐\n",
              "│ Aircraft: Type ┆ Wildlife: Species Group ┆ damage      ┆ ranking │\n",
              "│ ---            ┆ ---                     ┆ ---         ┆ ---     │\n",
              "│ str            ┆ str                     ┆ f64         ┆ u32     │\n",
              "╞════════════════╪═════════════════════════╪═════════════╪═════════╡\n",
              "│ Airplane       ┆ Kites, Hawks, Eagles    ┆ 4.8989287e7 ┆ 2       │\n",
              "│ Helicopter     ┆ Vultures                ┆ 116748.0    ┆ 2       │\n",
              "│ NA             ┆ Vultures                ┆ 56227.0     ┆ 2       │\n",
              "└────────────────┴─────────────────────────┴─────────────┴─────────┘"
            ],
            "text/html": [
              "<div><style>\n",
              ".dataframe > thead > tr,\n",
              ".dataframe > tbody > tr {\n",
              "  text-align: right;\n",
              "  white-space: pre-wrap;\n",
              "}\n",
              "</style>\n",
              "<small>shape: (3, 4)</small><table border=\"1\" class=\"dataframe\"><thead><tr><th>Aircraft: Type</th><th>Wildlife: Species Group</th><th>damage</th><th>ranking</th></tr><tr><td>str</td><td>str</td><td>f64</td><td>u32</td></tr></thead><tbody><tr><td>&quot;Airplane&quot;</td><td>&quot;Kites, Hawks, Eagles&quot;</td><td>4.8989287e7</td><td>2</td></tr><tr><td>&quot;Helicopter&quot;</td><td>&quot;Vultures&quot;</td><td>116748.0</td><td>2</td></tr><tr><td>&quot;NA&quot;</td><td>&quot;Vultures&quot;</td><td>56227.0</td><td>2</td></tr></tbody></table></div>"
            ]
          },
          "metadata": {},
          "execution_count": 8
        }
      ]
    },
    {
      "cell_type": "code",
      "source": [
        "#Q4\n",
        "\n",
        "greatest_strike_increase = (\n",
        "    strikes\n",
        "    .with_columns(\n",
        "        pl.col(\"Collision Date and Time\").dt.date().alias(\"date\"),\n",
        "        pl.col(\"Number of Strikes\").cast(pl.Int64).alias(\"strikes_n\")\n",
        "    )\n",
        "    .group_by(\"date\")\n",
        "    .agg(pl.col(\"strikes_n\").sum().alias(\"daily_strikes\"))\n",
        "    .sort(\"date\")\n",
        "    # add a constant group to make the lag explicitly a window function\n",
        "    .with_columns(pl.lit(1).alias(\"_grp\"))\n",
        "    .with_columns(\n",
        "        pl.col(\"daily_strikes\")\n",
        "          .shift(1)                   # lag\n",
        "          .over(\"_grp\")               # window over the whole table (explicit)\n",
        "          .alias(\"previous_day\")\n",
        "    )\n",
        "    .drop(\"_grp\")\n",
        "    .with_columns(\n",
        "        (pl.col(\"daily_strikes\") - pl.col(\"previous_day\")).alias(\"delta_strikes\")\n",
        "    )\n",
        "    .sort(\"delta_strikes\", descending=True, nulls_last=True)\n",
        ")\n",
        "\n",
        "greatest_strike_increase"
      ],
      "metadata": {
        "colab": {
          "base_uri": "https://localhost:8080/",
          "height": 443
        },
        "id": "mKvo25AyxiWm",
        "outputId": "444e5e53-da98-443c-cb7e-710d952b16e4"
      },
      "execution_count": 10,
      "outputs": [
        {
          "output_type": "execute_result",
          "data": {
            "text/plain": [
              "shape: (5_285, 4)\n",
              "┌────────────┬───────────────┬──────────────┬───────────────┐\n",
              "│ date       ┆ daily_strikes ┆ previous_day ┆ delta_strikes │\n",
              "│ ---        ┆ ---           ┆ ---          ┆ ---           │\n",
              "│ date       ┆ i64           ┆ i64          ┆ i64           │\n",
              "╞════════════╪═══════════════╪══════════════╪═══════════════╡\n",
              "│ 2010-10-29 ┆ 25            ┆ 7            ┆ 18            │\n",
              "│ 2014-08-25 ┆ 25            ┆ 8            ┆ 17            │\n",
              "│ 2012-06-28 ┆ 21            ┆ 5            ┆ 16            │\n",
              "│ 2009-07-07 ┆ 21            ┆ 7            ┆ 14            │\n",
              "│ 2013-11-04 ┆ 22            ┆ 8            ┆ 14            │\n",
              "│ …          ┆ …             ┆ …            ┆ …             │\n",
              "│ 2012-10-14 ┆ 5             ┆ 20           ┆ -15           │\n",
              "│ 2014-08-26 ┆ 10            ┆ 25           ┆ -15           │\n",
              "│ 2014-10-29 ┆ 5             ┆ 24           ┆ -19           │\n",
              "│ 2013-08-20 ┆ 8             ┆ 28           ┆ -20           │\n",
              "│ 2000-01-02 ┆ 1             ┆ null         ┆ null          │\n",
              "└────────────┴───────────────┴──────────────┴───────────────┘"
            ],
            "text/html": [
              "<div><style>\n",
              ".dataframe > thead > tr,\n",
              ".dataframe > tbody > tr {\n",
              "  text-align: right;\n",
              "  white-space: pre-wrap;\n",
              "}\n",
              "</style>\n",
              "<small>shape: (5_285, 4)</small><table border=\"1\" class=\"dataframe\"><thead><tr><th>date</th><th>daily_strikes</th><th>previous_day</th><th>delta_strikes</th></tr><tr><td>date</td><td>i64</td><td>i64</td><td>i64</td></tr></thead><tbody><tr><td>2010-10-29</td><td>25</td><td>7</td><td>18</td></tr><tr><td>2014-08-25</td><td>25</td><td>8</td><td>17</td></tr><tr><td>2012-06-28</td><td>21</td><td>5</td><td>16</td></tr><tr><td>2009-07-07</td><td>21</td><td>7</td><td>14</td></tr><tr><td>2013-11-04</td><td>22</td><td>8</td><td>14</td></tr><tr><td>&hellip;</td><td>&hellip;</td><td>&hellip;</td><td>&hellip;</td></tr><tr><td>2012-10-14</td><td>5</td><td>20</td><td>-15</td></tr><tr><td>2014-08-26</td><td>10</td><td>25</td><td>-15</td></tr><tr><td>2014-10-29</td><td>5</td><td>24</td><td>-19</td></tr><tr><td>2013-08-20</td><td>8</td><td>28</td><td>-20</td></tr><tr><td>2000-01-02</td><td>1</td><td>null</td><td>null</td></tr></tbody></table></div>"
            ]
          },
          "metadata": {},
          "execution_count": 10
        }
      ]
    },
    {
      "cell_type": "code",
      "source": [
        "#Q5\n",
        "import polars as pl\n",
        "\n",
        "greatest_strike_increase_type = (\n",
        "    strikes\n",
        "    .with_columns(\n",
        "        # Cast to string first so this works whether the source is already datetime or not\n",
        "        pl.col(\"Collision Date and Time\").cast(pl.Utf8).str.to_datetime(strict=False).dt.date().alias(\"date\"),\n",
        "        pl.col(\"Number of Strikes\").cast(pl.Int64).alias(\"strikes_n\")\n",
        "    )\n",
        "    .group_by([\"Aircraft: Type\", \"date\"])\n",
        "    .agg(pl.col(\"strikes_n\").sum().alias(\"daily_strikes\"))\n",
        "    .sort([\"Aircraft: Type\", \"date\"])\n",
        "    .with_columns(\n",
        "        # Lag per aircraft type (window function)\n",
        "        pl.col(\"daily_strikes\")\n",
        "          .shift(1)\n",
        "          .over(\"Aircraft: Type\")\n",
        "          .alias(\"previous_day\")\n",
        "    )\n",
        "    .with_columns(\n",
        "        (pl.col(\"daily_strikes\") - pl.col(\"previous_day\")).alias(\"delta_strikes\")\n",
        "    )\n",
        "    .filter(pl.col(\"delta_strikes\").is_not_null())\n",
        "    .with_columns(\n",
        "        # Rank within each type by positive jump; 1 = largest\n",
        "        pl.col(\"delta_strikes\")\n",
        "          .rank(method=\"dense\", descending=True)\n",
        "          .over(\"Aircraft: Type\")\n",
        "          .alias(\"ranking\")\n",
        "    )\n",
        "    .filter(pl.col(\"ranking\") == 1)\n",
        "    .sort([\"Aircraft: Type\", \"delta_strikes\", \"date\"], descending=[False, True, False])\n",
        ")\n",
        "\n",
        "greatest_strike_increase_type\n"
      ],
      "metadata": {
        "colab": {
          "base_uri": "https://localhost:8080/",
          "height": 286
        },
        "id": "8ZFaDeOtyqxL",
        "outputId": "86a39c18-de4f-4a4f-b028-c2ff631f0b35"
      },
      "execution_count": 12,
      "outputs": [
        {
          "output_type": "execute_result",
          "data": {
            "text/plain": [
              "shape: (6, 6)\n",
              "┌────────────────┬────────────┬───────────────┬──────────────┬───────────────┬─────────┐\n",
              "│ Aircraft: Type ┆ date       ┆ daily_strikes ┆ previous_day ┆ delta_strikes ┆ ranking │\n",
              "│ ---            ┆ ---        ┆ ---           ┆ ---          ┆ ---           ┆ ---     │\n",
              "│ str            ┆ date       ┆ i64           ┆ i64          ┆ i64           ┆ u32     │\n",
              "╞════════════════╪════════════╪═══════════════╪══════════════╪═══════════════╪═════════╡\n",
              "│ Airplane       ┆ 2014-08-25 ┆ 25            ┆ 8            ┆ 17            ┆ 1       │\n",
              "│ Helicopter     ┆ 2010-07-21 ┆ 2             ┆ 1            ┆ 1             ┆ 1       │\n",
              "│ Helicopter     ┆ 2012-11-02 ┆ 2             ┆ 1            ┆ 1             ┆ 1       │\n",
              "│ Helicopter     ┆ 2013-10-28 ┆ 2             ┆ 1            ┆ 1             ┆ 1       │\n",
              "│ Helicopter     ┆ 2014-08-14 ┆ 2             ┆ 1            ┆ 1             ┆ 1       │\n",
              "│ NA             ┆ 2014-08-04 ┆ 5             ┆ 1            ┆ 4             ┆ 1       │\n",
              "└────────────────┴────────────┴───────────────┴──────────────┴───────────────┴─────────┘"
            ],
            "text/html": [
              "<div><style>\n",
              ".dataframe > thead > tr,\n",
              ".dataframe > tbody > tr {\n",
              "  text-align: right;\n",
              "  white-space: pre-wrap;\n",
              "}\n",
              "</style>\n",
              "<small>shape: (6, 6)</small><table border=\"1\" class=\"dataframe\"><thead><tr><th>Aircraft: Type</th><th>date</th><th>daily_strikes</th><th>previous_day</th><th>delta_strikes</th><th>ranking</th></tr><tr><td>str</td><td>date</td><td>i64</td><td>i64</td><td>i64</td><td>u32</td></tr></thead><tbody><tr><td>&quot;Airplane&quot;</td><td>2014-08-25</td><td>25</td><td>8</td><td>17</td><td>1</td></tr><tr><td>&quot;Helicopter&quot;</td><td>2010-07-21</td><td>2</td><td>1</td><td>1</td><td>1</td></tr><tr><td>&quot;Helicopter&quot;</td><td>2012-11-02</td><td>2</td><td>1</td><td>1</td><td>1</td></tr><tr><td>&quot;Helicopter&quot;</td><td>2013-10-28</td><td>2</td><td>1</td><td>1</td><td>1</td></tr><tr><td>&quot;Helicopter&quot;</td><td>2014-08-14</td><td>2</td><td>1</td><td>1</td><td>1</td></tr><tr><td>&quot;NA&quot;</td><td>2014-08-04</td><td>5</td><td>1</td><td>4</td><td>1</td></tr></tbody></table></div>"
            ]
          },
          "metadata": {},
          "execution_count": 12
        }
      ]
    }
  ]
}